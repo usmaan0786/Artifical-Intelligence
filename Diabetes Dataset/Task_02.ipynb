{
 "cells": [
  {
   "cell_type": "code",
   "execution_count": 144,
   "id": "18341448",
   "metadata": {},
   "outputs": [],
   "source": [
    "import pandas as pd\n",
    "import numpy as np\n",
    "from sklearn.model_selection import train_test_split\n",
    "from sklearn.metrics import log_loss"
   ]
  },
  {
   "cell_type": "code",
   "execution_count": 145,
   "id": "d28d8d07",
   "metadata": {},
   "outputs": [],
   "source": [
    "def halfSqrMean(y_target, model_output):\n",
    "    return np.square(np.subtract(y_target,model_output)).mean()"
   ]
  },
  {
   "cell_type": "code",
   "execution_count": 146,
   "id": "1b7e6587",
   "metadata": {},
   "outputs": [],
   "source": [
    "columns = [i for i in range(1,12)]\n",
    "df = pd.read_csv(\"diabetes.txt\",delimiter = \"\\t\",names = columns, header = None)"
   ]
  },
  {
   "cell_type": "code",
   "execution_count": 147,
   "id": "d1cb63bc",
   "metadata": {},
   "outputs": [
    {
     "data": {
      "text/html": [
       "<div>\n",
       "<style scoped>\n",
       "    .dataframe tbody tr th:only-of-type {\n",
       "        vertical-align: middle;\n",
       "    }\n",
       "\n",
       "    .dataframe tbody tr th {\n",
       "        vertical-align: top;\n",
       "    }\n",
       "\n",
       "    .dataframe thead th {\n",
       "        text-align: right;\n",
       "    }\n",
       "</style>\n",
       "<table border=\"1\" class=\"dataframe\">\n",
       "  <thead>\n",
       "    <tr style=\"text-align: right;\">\n",
       "      <th></th>\n",
       "      <th>1</th>\n",
       "      <th>2</th>\n",
       "      <th>3</th>\n",
       "      <th>4</th>\n",
       "      <th>5</th>\n",
       "      <th>6</th>\n",
       "      <th>7</th>\n",
       "      <th>8</th>\n",
       "      <th>9</th>\n",
       "      <th>10</th>\n",
       "      <th>11</th>\n",
       "    </tr>\n",
       "  </thead>\n",
       "  <tbody>\n",
       "    <tr>\n",
       "      <th>0</th>\n",
       "      <td>AGE</td>\n",
       "      <td>SEX</td>\n",
       "      <td>BMI</td>\n",
       "      <td>BP</td>\n",
       "      <td>S1</td>\n",
       "      <td>S2</td>\n",
       "      <td>S3</td>\n",
       "      <td>S4</td>\n",
       "      <td>S5</td>\n",
       "      <td>S6</td>\n",
       "      <td>Y</td>\n",
       "    </tr>\n",
       "    <tr>\n",
       "      <th>1</th>\n",
       "      <td>59</td>\n",
       "      <td>2</td>\n",
       "      <td>32.1</td>\n",
       "      <td>101</td>\n",
       "      <td>157</td>\n",
       "      <td>93.2</td>\n",
       "      <td>38</td>\n",
       "      <td>4</td>\n",
       "      <td>4.8598</td>\n",
       "      <td>87</td>\n",
       "      <td>151</td>\n",
       "    </tr>\n",
       "    <tr>\n",
       "      <th>2</th>\n",
       "      <td>48</td>\n",
       "      <td>1</td>\n",
       "      <td>21.6</td>\n",
       "      <td>87</td>\n",
       "      <td>183</td>\n",
       "      <td>103.2</td>\n",
       "      <td>70</td>\n",
       "      <td>3</td>\n",
       "      <td>3.8918</td>\n",
       "      <td>69</td>\n",
       "      <td>75</td>\n",
       "    </tr>\n",
       "    <tr>\n",
       "      <th>3</th>\n",
       "      <td>72</td>\n",
       "      <td>2</td>\n",
       "      <td>30.5</td>\n",
       "      <td>93</td>\n",
       "      <td>156</td>\n",
       "      <td>93.6</td>\n",
       "      <td>41</td>\n",
       "      <td>4</td>\n",
       "      <td>4.6728</td>\n",
       "      <td>85</td>\n",
       "      <td>141</td>\n",
       "    </tr>\n",
       "    <tr>\n",
       "      <th>4</th>\n",
       "      <td>24</td>\n",
       "      <td>1</td>\n",
       "      <td>25.3</td>\n",
       "      <td>84</td>\n",
       "      <td>198</td>\n",
       "      <td>131.4</td>\n",
       "      <td>40</td>\n",
       "      <td>5</td>\n",
       "      <td>4.8903</td>\n",
       "      <td>89</td>\n",
       "      <td>206</td>\n",
       "    </tr>\n",
       "  </tbody>\n",
       "</table>\n",
       "</div>"
      ],
      "text/plain": [
       "    1    2     3    4    5      6   7   8       9   10   11\n",
       "0  AGE  SEX   BMI   BP   S1     S2  S3  S4      S5  S6    Y\n",
       "1   59    2  32.1  101  157   93.2  38   4  4.8598  87  151\n",
       "2   48    1  21.6   87  183  103.2  70   3  3.8918  69   75\n",
       "3   72    2  30.5   93  156   93.6  41   4  4.6728  85  141\n",
       "4   24    1  25.3   84  198  131.4  40   5  4.8903  89  206"
      ]
     },
     "execution_count": 147,
     "metadata": {},
     "output_type": "execute_result"
    }
   ],
   "source": [
    "df.head()"
   ]
  },
  {
   "cell_type": "code",
   "execution_count": 148,
   "id": "ea6e3efa",
   "metadata": {},
   "outputs": [],
   "source": [
    "x_train, x_test, y_train, y_test = train_test_split(df[columns[:-1]], df[columns[-1]], test_size=0.33, random_state=42)"
   ]
  },
  {
   "cell_type": "code",
   "execution_count": 149,
   "id": "f4b4876c",
   "metadata": {},
   "outputs": [
    {
     "data": {
      "text/html": [
       "<div>\n",
       "<style scoped>\n",
       "    .dataframe tbody tr th:only-of-type {\n",
       "        vertical-align: middle;\n",
       "    }\n",
       "\n",
       "    .dataframe tbody tr th {\n",
       "        vertical-align: top;\n",
       "    }\n",
       "\n",
       "    .dataframe thead th {\n",
       "        text-align: right;\n",
       "    }\n",
       "</style>\n",
       "<table border=\"1\" class=\"dataframe\">\n",
       "  <thead>\n",
       "    <tr style=\"text-align: right;\">\n",
       "      <th></th>\n",
       "      <th>1</th>\n",
       "      <th>2</th>\n",
       "      <th>3</th>\n",
       "      <th>4</th>\n",
       "      <th>5</th>\n",
       "      <th>6</th>\n",
       "      <th>7</th>\n",
       "      <th>8</th>\n",
       "      <th>9</th>\n",
       "      <th>10</th>\n",
       "    </tr>\n",
       "  </thead>\n",
       "  <tbody>\n",
       "    <tr>\n",
       "      <th>261</th>\n",
       "      <td>60</td>\n",
       "      <td>1</td>\n",
       "      <td>25.6</td>\n",
       "      <td>78</td>\n",
       "      <td>195</td>\n",
       "      <td>95.4</td>\n",
       "      <td>91</td>\n",
       "      <td>2</td>\n",
       "      <td>3.7612</td>\n",
       "      <td>87</td>\n",
       "    </tr>\n",
       "    <tr>\n",
       "      <th>165</th>\n",
       "      <td>61</td>\n",
       "      <td>1</td>\n",
       "      <td>24.6</td>\n",
       "      <td>101</td>\n",
       "      <td>209</td>\n",
       "      <td>106.8</td>\n",
       "      <td>77</td>\n",
       "      <td>3</td>\n",
       "      <td>4.8363</td>\n",
       "      <td>88</td>\n",
       "    </tr>\n",
       "    <tr>\n",
       "      <th>204</th>\n",
       "      <td>48</td>\n",
       "      <td>2</td>\n",
       "      <td>29.2</td>\n",
       "      <td>110</td>\n",
       "      <td>218</td>\n",
       "      <td>151.6</td>\n",
       "      <td>39</td>\n",
       "      <td>6</td>\n",
       "      <td>4.92</td>\n",
       "      <td>98</td>\n",
       "    </tr>\n",
       "    <tr>\n",
       "      <th>109</th>\n",
       "      <td>54</td>\n",
       "      <td>2</td>\n",
       "      <td>30.6</td>\n",
       "      <td>103.33</td>\n",
       "      <td>144</td>\n",
       "      <td>79.8</td>\n",
       "      <td>30</td>\n",
       "      <td>4.8</td>\n",
       "      <td>5.1417</td>\n",
       "      <td>101</td>\n",
       "    </tr>\n",
       "    <tr>\n",
       "      <th>196</th>\n",
       "      <td>56</td>\n",
       "      <td>2</td>\n",
       "      <td>28.7</td>\n",
       "      <td>99</td>\n",
       "      <td>208</td>\n",
       "      <td>146.4</td>\n",
       "      <td>39</td>\n",
       "      <td>5</td>\n",
       "      <td>4.7274</td>\n",
       "      <td>97</td>\n",
       "    </tr>\n",
       "  </tbody>\n",
       "</table>\n",
       "</div>"
      ],
      "text/plain": [
       "     1  2     3       4    5      6   7    8       9    10\n",
       "261  60  1  25.6      78  195   95.4  91    2  3.7612   87\n",
       "165  61  1  24.6     101  209  106.8  77    3  4.8363   88\n",
       "204  48  2  29.2     110  218  151.6  39    6    4.92   98\n",
       "109  54  2  30.6  103.33  144   79.8  30  4.8  5.1417  101\n",
       "196  56  2  28.7      99  208  146.4  39    5  4.7274   97"
      ]
     },
     "execution_count": 149,
     "metadata": {},
     "output_type": "execute_result"
    }
   ],
   "source": [
    "x_train.head()"
   ]
  },
  {
   "cell_type": "code",
   "execution_count": 150,
   "id": "d2793225",
   "metadata": {},
   "outputs": [
    {
     "data": {
      "text/html": [
       "<div>\n",
       "<style scoped>\n",
       "    .dataframe tbody tr th:only-of-type {\n",
       "        vertical-align: middle;\n",
       "    }\n",
       "\n",
       "    .dataframe tbody tr th {\n",
       "        vertical-align: top;\n",
       "    }\n",
       "\n",
       "    .dataframe thead th {\n",
       "        text-align: right;\n",
       "    }\n",
       "</style>\n",
       "<table border=\"1\" class=\"dataframe\">\n",
       "  <thead>\n",
       "    <tr style=\"text-align: right;\">\n",
       "      <th></th>\n",
       "      <th>1</th>\n",
       "      <th>2</th>\n",
       "      <th>3</th>\n",
       "      <th>4</th>\n",
       "      <th>5</th>\n",
       "      <th>6</th>\n",
       "      <th>7</th>\n",
       "      <th>8</th>\n",
       "      <th>9</th>\n",
       "      <th>10</th>\n",
       "    </tr>\n",
       "  </thead>\n",
       "  <tbody>\n",
       "    <tr>\n",
       "      <th>261</th>\n",
       "      <td>60</td>\n",
       "      <td>1</td>\n",
       "      <td>25.6</td>\n",
       "      <td>78</td>\n",
       "      <td>195</td>\n",
       "      <td>95.4</td>\n",
       "      <td>91</td>\n",
       "      <td>2</td>\n",
       "      <td>3.7612</td>\n",
       "      <td>87</td>\n",
       "    </tr>\n",
       "    <tr>\n",
       "      <th>165</th>\n",
       "      <td>61</td>\n",
       "      <td>1</td>\n",
       "      <td>24.6</td>\n",
       "      <td>101</td>\n",
       "      <td>209</td>\n",
       "      <td>106.8</td>\n",
       "      <td>77</td>\n",
       "      <td>3</td>\n",
       "      <td>4.8363</td>\n",
       "      <td>88</td>\n",
       "    </tr>\n",
       "    <tr>\n",
       "      <th>204</th>\n",
       "      <td>48</td>\n",
       "      <td>2</td>\n",
       "      <td>29.2</td>\n",
       "      <td>110</td>\n",
       "      <td>218</td>\n",
       "      <td>151.6</td>\n",
       "      <td>39</td>\n",
       "      <td>6</td>\n",
       "      <td>4.92</td>\n",
       "      <td>98</td>\n",
       "    </tr>\n",
       "    <tr>\n",
       "      <th>109</th>\n",
       "      <td>54</td>\n",
       "      <td>2</td>\n",
       "      <td>30.6</td>\n",
       "      <td>103.33</td>\n",
       "      <td>144</td>\n",
       "      <td>79.8</td>\n",
       "      <td>30</td>\n",
       "      <td>4.8</td>\n",
       "      <td>5.1417</td>\n",
       "      <td>101</td>\n",
       "    </tr>\n",
       "    <tr>\n",
       "      <th>196</th>\n",
       "      <td>56</td>\n",
       "      <td>2</td>\n",
       "      <td>28.7</td>\n",
       "      <td>99</td>\n",
       "      <td>208</td>\n",
       "      <td>146.4</td>\n",
       "      <td>39</td>\n",
       "      <td>5</td>\n",
       "      <td>4.7274</td>\n",
       "      <td>97</td>\n",
       "    </tr>\n",
       "    <tr>\n",
       "      <th>...</th>\n",
       "      <td>...</td>\n",
       "      <td>...</td>\n",
       "      <td>...</td>\n",
       "      <td>...</td>\n",
       "      <td>...</td>\n",
       "      <td>...</td>\n",
       "      <td>...</td>\n",
       "      <td>...</td>\n",
       "      <td>...</td>\n",
       "      <td>...</td>\n",
       "    </tr>\n",
       "    <tr>\n",
       "      <th>106</th>\n",
       "      <td>55</td>\n",
       "      <td>2</td>\n",
       "      <td>23.4</td>\n",
       "      <td>83</td>\n",
       "      <td>166</td>\n",
       "      <td>101.6</td>\n",
       "      <td>46</td>\n",
       "      <td>4</td>\n",
       "      <td>4.5218</td>\n",
       "      <td>96</td>\n",
       "    </tr>\n",
       "    <tr>\n",
       "      <th>270</th>\n",
       "      <td>51</td>\n",
       "      <td>1</td>\n",
       "      <td>23.4</td>\n",
       "      <td>87</td>\n",
       "      <td>220</td>\n",
       "      <td>108.8</td>\n",
       "      <td>93</td>\n",
       "      <td>2</td>\n",
       "      <td>4.5109</td>\n",
       "      <td>82</td>\n",
       "    </tr>\n",
       "    <tr>\n",
       "      <th>348</th>\n",
       "      <td>59</td>\n",
       "      <td>2</td>\n",
       "      <td>23.6</td>\n",
       "      <td>73</td>\n",
       "      <td>180</td>\n",
       "      <td>107.4</td>\n",
       "      <td>51</td>\n",
       "      <td>4</td>\n",
       "      <td>4.6821</td>\n",
       "      <td>84</td>\n",
       "    </tr>\n",
       "    <tr>\n",
       "      <th>435</th>\n",
       "      <td>53</td>\n",
       "      <td>1</td>\n",
       "      <td>26.5</td>\n",
       "      <td>97</td>\n",
       "      <td>193</td>\n",
       "      <td>122.4</td>\n",
       "      <td>58</td>\n",
       "      <td>3</td>\n",
       "      <td>4.1431</td>\n",
       "      <td>99</td>\n",
       "    </tr>\n",
       "    <tr>\n",
       "      <th>102</th>\n",
       "      <td>53</td>\n",
       "      <td>2</td>\n",
       "      <td>22.2</td>\n",
       "      <td>113</td>\n",
       "      <td>197</td>\n",
       "      <td>115.2</td>\n",
       "      <td>67</td>\n",
       "      <td>3</td>\n",
       "      <td>4.3041</td>\n",
       "      <td>100</td>\n",
       "    </tr>\n",
       "  </tbody>\n",
       "</table>\n",
       "<p>296 rows × 10 columns</p>\n",
       "</div>"
      ],
      "text/plain": [
       "     1  2     3       4    5      6   7    8       9    10\n",
       "261  60  1  25.6      78  195   95.4  91    2  3.7612   87\n",
       "165  61  1  24.6     101  209  106.8  77    3  4.8363   88\n",
       "204  48  2  29.2     110  218  151.6  39    6    4.92   98\n",
       "109  54  2  30.6  103.33  144   79.8  30  4.8  5.1417  101\n",
       "196  56  2  28.7      99  208  146.4  39    5  4.7274   97\n",
       "..   .. ..   ...     ...  ...    ...  ..  ...     ...  ...\n",
       "106  55  2  23.4      83  166  101.6  46    4  4.5218   96\n",
       "270  51  1  23.4      87  220  108.8  93    2  4.5109   82\n",
       "348  59  2  23.6      73  180  107.4  51    4  4.6821   84\n",
       "435  53  1  26.5      97  193  122.4  58    3  4.1431   99\n",
       "102  53  2  22.2     113  197  115.2  67    3  4.3041  100\n",
       "\n",
       "[296 rows x 10 columns]"
      ]
     },
     "execution_count": 150,
     "metadata": {},
     "output_type": "execute_result"
    }
   ],
   "source": [
    "x_train"
   ]
  },
  {
   "cell_type": "code",
   "execution_count": 151,
   "id": "eb306277",
   "metadata": {},
   "outputs": [
    {
     "data": {
      "text/html": [
       "<div>\n",
       "<style scoped>\n",
       "    .dataframe tbody tr th:only-of-type {\n",
       "        vertical-align: middle;\n",
       "    }\n",
       "\n",
       "    .dataframe tbody tr th {\n",
       "        vertical-align: top;\n",
       "    }\n",
       "\n",
       "    .dataframe thead th {\n",
       "        text-align: right;\n",
       "    }\n",
       "</style>\n",
       "<table border=\"1\" class=\"dataframe\">\n",
       "  <thead>\n",
       "    <tr style=\"text-align: right;\">\n",
       "      <th></th>\n",
       "      <th>1</th>\n",
       "      <th>2</th>\n",
       "      <th>3</th>\n",
       "      <th>4</th>\n",
       "      <th>5</th>\n",
       "      <th>6</th>\n",
       "      <th>7</th>\n",
       "      <th>8</th>\n",
       "      <th>9</th>\n",
       "      <th>10</th>\n",
       "    </tr>\n",
       "  </thead>\n",
       "  <tbody>\n",
       "    <tr>\n",
       "      <th>333</th>\n",
       "      <td>57</td>\n",
       "      <td>1</td>\n",
       "      <td>36.1</td>\n",
       "      <td>117</td>\n",
       "      <td>181</td>\n",
       "      <td>108.2</td>\n",
       "      <td>34</td>\n",
       "      <td>5</td>\n",
       "      <td>5.2679</td>\n",
       "      <td>100</td>\n",
       "    </tr>\n",
       "    <tr>\n",
       "      <th>137</th>\n",
       "      <td>23</td>\n",
       "      <td>1</td>\n",
       "      <td>18.8</td>\n",
       "      <td>78</td>\n",
       "      <td>145</td>\n",
       "      <td>72</td>\n",
       "      <td>63</td>\n",
       "      <td>2</td>\n",
       "      <td>3.912</td>\n",
       "      <td>86</td>\n",
       "    </tr>\n",
       "    <tr>\n",
       "      <th>72</th>\n",
       "      <td>48</td>\n",
       "      <td>1</td>\n",
       "      <td>29.5</td>\n",
       "      <td>131</td>\n",
       "      <td>207</td>\n",
       "      <td>132.2</td>\n",
       "      <td>47</td>\n",
       "      <td>4</td>\n",
       "      <td>4.9345</td>\n",
       "      <td>106</td>\n",
       "    </tr>\n",
       "    <tr>\n",
       "      <th>364</th>\n",
       "      <td>35</td>\n",
       "      <td>2</td>\n",
       "      <td>24.1</td>\n",
       "      <td>94.67</td>\n",
       "      <td>155</td>\n",
       "      <td>97.4</td>\n",
       "      <td>32</td>\n",
       "      <td>4.84</td>\n",
       "      <td>4.852</td>\n",
       "      <td>94</td>\n",
       "    </tr>\n",
       "    <tr>\n",
       "      <th>73</th>\n",
       "      <td>66</td>\n",
       "      <td>2</td>\n",
       "      <td>26</td>\n",
       "      <td>91</td>\n",
       "      <td>264</td>\n",
       "      <td>146.6</td>\n",
       "      <td>65</td>\n",
       "      <td>4</td>\n",
       "      <td>5.5683</td>\n",
       "      <td>87</td>\n",
       "    </tr>\n",
       "  </tbody>\n",
       "</table>\n",
       "</div>"
      ],
      "text/plain": [
       "     1  2     3      4    5      6   7     8       9    10\n",
       "333  57  1  36.1    117  181  108.2  34     5  5.2679  100\n",
       "137  23  1  18.8     78  145     72  63     2   3.912   86\n",
       "72   48  1  29.5    131  207  132.2  47     4  4.9345  106\n",
       "364  35  2  24.1  94.67  155   97.4  32  4.84   4.852   94\n",
       "73   66  2    26     91  264  146.6  65     4  5.5683   87"
      ]
     },
     "execution_count": 151,
     "metadata": {},
     "output_type": "execute_result"
    }
   ],
   "source": [
    "x_test.head()"
   ]
  },
  {
   "cell_type": "code",
   "execution_count": 152,
   "id": "c1b4dfe1",
   "metadata": {},
   "outputs": [
    {
     "data": {
      "text/plain": [
       "261     39\n",
       "165    214\n",
       "204    222\n",
       "109    232\n",
       "196    122\n",
       "Name: 11, dtype: object"
      ]
     },
     "execution_count": 152,
     "metadata": {},
     "output_type": "execute_result"
    }
   ],
   "source": [
    "y_train.head()"
   ]
  },
  {
   "cell_type": "code",
   "execution_count": 153,
   "id": "a66cee0a",
   "metadata": {},
   "outputs": [
    {
     "data": {
      "text/plain": [
       "333    270\n",
       "137     85\n",
       "72     270\n",
       "364     58\n",
       "73     202\n",
       "Name: 11, dtype: object"
      ]
     },
     "execution_count": 153,
     "metadata": {},
     "output_type": "execute_result"
    }
   ],
   "source": [
    "y_test.head()"
   ]
  },
  {
   "cell_type": "code",
   "execution_count": 154,
   "id": "19c0d433",
   "metadata": {},
   "outputs": [],
   "source": [
    "x_train = np.array(x_train)\n",
    "x_test = np.array(x_test)\n",
    "y_train = np.array(y_train)\n",
    "y_test = np.array(x_test)"
   ]
  },
  {
   "cell_type": "code",
   "execution_count": 155,
   "id": "28e4e2ad",
   "metadata": {},
   "outputs": [],
   "source": [
    "y_train = np.expand_dims(y_train, axis = 0)"
   ]
  },
  {
   "cell_type": "code",
   "execution_count": 156,
   "id": "353e3135",
   "metadata": {},
   "outputs": [],
   "source": [
    "numOfExamples = x_train.shape[0]\n",
    "numOfFeatures = x_train.shape[1]"
   ]
  },
  {
   "cell_type": "code",
   "execution_count": 157,
   "id": "d7bc827e",
   "metadata": {},
   "outputs": [],
   "source": [
    "#x_train = x_train.T\n",
    "#x_train.shape"
   ]
  },
  {
   "cell_type": "code",
   "execution_count": 158,
   "id": "96c4a734",
   "metadata": {},
   "outputs": [],
   "source": [
    "#x_train[0].shape"
   ]
  },
  {
   "cell_type": "code",
   "execution_count": 159,
   "id": "2e704163",
   "metadata": {},
   "outputs": [],
   "source": [
    "#x_train = x_train.astype(float)"
   ]
  },
  {
   "cell_type": "code",
   "execution_count": 160,
   "id": "d582d0cc",
   "metadata": {},
   "outputs": [],
   "source": [
    "#x_test = x_test.astype(float)"
   ]
  },
  {
   "cell_type": "code",
   "execution_count": 161,
   "id": "fb0f2530",
   "metadata": {},
   "outputs": [],
   "source": [
    "#y_train = y_train.astype(float)"
   ]
  },
  {
   "cell_type": "code",
   "execution_count": 162,
   "id": "25522d8c",
   "metadata": {},
   "outputs": [],
   "source": [
    "#y_test = y_test.astype(float)"
   ]
  },
  {
   "cell_type": "code",
   "execution_count": 163,
   "id": "7051b709",
   "metadata": {},
   "outputs": [],
   "source": [
    "w = np.random.rand(numOfFeatures, 1)\n",
    "b = np.random.rand()"
   ]
  },
  {
   "cell_type": "code",
   "execution_count": 164,
   "id": "ea19101d",
   "metadata": {},
   "outputs": [],
   "source": [
    "alpha = 0.1"
   ]
  },
  {
   "cell_type": "code",
   "execution_count": 165,
   "id": "3822a302",
   "metadata": {},
   "outputs": [],
   "source": [
    "def sigmoid(z):\n",
    "    return 1/(1 + np.exp(-z))"
   ]
  },
  {
   "cell_type": "code",
   "execution_count": 172,
   "id": "75bc3f4f",
   "metadata": {},
   "outputs": [
    {
     "ename": "ValueError",
     "evalue": "matmul: Input operand 1 has a mismatch in its core dimension 0, with gufunc signature (n?,k),(k,m?)->(n?,m?) (size 296 is different from 10)",
     "output_type": "error",
     "traceback": [
      "\u001b[1;31m---------------------------------------------------------------------------\u001b[0m",
      "\u001b[1;31mValueError\u001b[0m                                Traceback (most recent call last)",
      "\u001b[1;32m<ipython-input-172-0a3843798fa9>\u001b[0m in \u001b[0;36m<module>\u001b[1;34m\u001b[0m\n\u001b[0;32m      1\u001b[0m \u001b[1;32mfor\u001b[0m \u001b[0mi\u001b[0m \u001b[1;32min\u001b[0m \u001b[0mrange\u001b[0m\u001b[1;33m(\u001b[0m\u001b[1;36m20000\u001b[0m\u001b[1;33m)\u001b[0m\u001b[1;33m:\u001b[0m\u001b[1;33m\u001b[0m\u001b[1;33m\u001b[0m\u001b[0m\n\u001b[1;32m----> 2\u001b[1;33m     \u001b[0mz\u001b[0m \u001b[1;33m=\u001b[0m \u001b[0mnp\u001b[0m\u001b[1;33m.\u001b[0m\u001b[0mmatmul\u001b[0m\u001b[1;33m(\u001b[0m\u001b[0mw\u001b[0m\u001b[1;33m.\u001b[0m\u001b[0mT\u001b[0m\u001b[1;33m,\u001b[0m \u001b[0mx_train\u001b[0m\u001b[1;33m)\u001b[0m \u001b[1;33m+\u001b[0m \u001b[0mb\u001b[0m\u001b[1;33m\u001b[0m\u001b[1;33m\u001b[0m\u001b[0m\n\u001b[0m\u001b[0;32m      3\u001b[0m     \u001b[0mJ\u001b[0m \u001b[1;33m=\u001b[0m \u001b[0mhalfSqrMean\u001b[0m\u001b[1;33m(\u001b[0m\u001b[0my_train\u001b[0m\u001b[1;33m.\u001b[0m\u001b[0mT\u001b[0m\u001b[1;33m,\u001b[0m \u001b[0mz\u001b[0m\u001b[1;33m.\u001b[0m\u001b[0mT\u001b[0m\u001b[1;33m)\u001b[0m\u001b[1;33m\u001b[0m\u001b[1;33m\u001b[0m\u001b[0m\n\u001b[0;32m      4\u001b[0m     \u001b[0mdw\u001b[0m \u001b[1;33m=\u001b[0m \u001b[0mnp\u001b[0m\u001b[1;33m.\u001b[0m\u001b[0mmean\u001b[0m\u001b[1;33m(\u001b[0m\u001b[0mnp\u001b[0m\u001b[1;33m.\u001b[0m\u001b[0msubtract\u001b[0m\u001b[1;33m(\u001b[0m\u001b[0mz\u001b[0m\u001b[1;33m.\u001b[0m\u001b[0mT\u001b[0m\u001b[1;33m,\u001b[0m \u001b[0my_train\u001b[0m\u001b[1;33m.\u001b[0m\u001b[0mT\u001b[0m\u001b[1;33m)\u001b[0m \u001b[1;33m*\u001b[0m \u001b[0mx_train\u001b[0m\u001b[1;33m,\u001b[0m \u001b[0mdtype\u001b[0m \u001b[1;33m=\u001b[0m \u001b[0mnp\u001b[0m\u001b[1;33m.\u001b[0m\u001b[0mfloat64\u001b[0m\u001b[1;33m)\u001b[0m   \u001b[1;31m# derivation of MSE with respect to weights\u001b[0m\u001b[1;33m\u001b[0m\u001b[1;33m\u001b[0m\u001b[0m\n\u001b[0;32m      5\u001b[0m     \u001b[0mdb\u001b[0m \u001b[1;33m=\u001b[0m \u001b[0mnp\u001b[0m\u001b[1;33m.\u001b[0m\u001b[0mmean\u001b[0m\u001b[1;33m(\u001b[0m\u001b[0mnp\u001b[0m\u001b[1;33m.\u001b[0m\u001b[0msubtract\u001b[0m\u001b[1;33m(\u001b[0m\u001b[0mz\u001b[0m\u001b[1;33m.\u001b[0m\u001b[0mT\u001b[0m\u001b[1;33m,\u001b[0m \u001b[0my_train\u001b[0m\u001b[1;33m.\u001b[0m\u001b[0mT\u001b[0m\u001b[1;33m)\u001b[0m\u001b[1;33m,\u001b[0m \u001b[0mdtype\u001b[0m \u001b[1;33m=\u001b[0m \u001b[0mnp\u001b[0m\u001b[1;33m.\u001b[0m\u001b[0mfloat64\u001b[0m\u001b[1;33m)\u001b[0m     \u001b[1;31m# derivation of MSE with respect to bias\u001b[0m\u001b[1;33m\u001b[0m\u001b[1;33m\u001b[0m\u001b[0m\n",
      "\u001b[1;31mValueError\u001b[0m: matmul: Input operand 1 has a mismatch in its core dimension 0, with gufunc signature (n?,k),(k,m?)->(n?,m?) (size 296 is different from 10)"
     ]
    }
   ],
   "source": [
    "for i in range(20000):\n",
    "    z = np.matmul(w.T, x_train) + b\n",
    "    J = halfSqrMean(y_train.T, z.T)\n",
    "    dw = np.mean(np.subtract(z.T, y_train.T) * x_train, dtype = np.float64)   # derivation of MSE with respect to weights\n",
    "    db = np.mean(np.subtract(z.T, y_train.T), dtype = np.float64)     # derivation of MSE with respect to bias\n",
    "    w = w - alpha * dw\n",
    "    b = b - alpha * db"
   ]
  },
  {
   "cell_type": "code",
   "execution_count": 167,
   "id": "762d01e5",
   "metadata": {},
   "outputs": [
    {
     "ename": "NameError",
     "evalue": "name 'J' is not defined",
     "output_type": "error",
     "traceback": [
      "\u001b[1;31m---------------------------------------------------------------------------\u001b[0m",
      "\u001b[1;31mNameError\u001b[0m                                 Traceback (most recent call last)",
      "\u001b[1;32m<ipython-input-167-11d7d7ce0b68>\u001b[0m in \u001b[0;36m<module>\u001b[1;34m\u001b[0m\n\u001b[1;32m----> 1\u001b[1;33m \u001b[0mJ\u001b[0m\u001b[1;33m\u001b[0m\u001b[1;33m\u001b[0m\u001b[0m\n\u001b[0m",
      "\u001b[1;31mNameError\u001b[0m: name 'J' is not defined"
     ]
    }
   ],
   "source": [
    "J"
   ]
  },
  {
   "cell_type": "code",
   "execution_count": 168,
   "id": "49481bfc",
   "metadata": {},
   "outputs": [
    {
     "ename": "NameError",
     "evalue": "name 'W' is not defined",
     "output_type": "error",
     "traceback": [
      "\u001b[1;31m---------------------------------------------------------------------------\u001b[0m",
      "\u001b[1;31mNameError\u001b[0m                                 Traceback (most recent call last)",
      "\u001b[1;32m<ipython-input-168-2d652801e9e7>\u001b[0m in \u001b[0;36m<module>\u001b[1;34m\u001b[0m\n\u001b[1;32m----> 1\u001b[1;33m \u001b[0mZ\u001b[0m \u001b[1;33m=\u001b[0m \u001b[0mnp\u001b[0m\u001b[1;33m.\u001b[0m\u001b[0mmatmul\u001b[0m\u001b[1;33m(\u001b[0m\u001b[0mW\u001b[0m\u001b[1;33m.\u001b[0m\u001b[0mT\u001b[0m\u001b[1;33m,\u001b[0m\u001b[0mX_test\u001b[0m\u001b[1;33m.\u001b[0m\u001b[0mT\u001b[0m\u001b[1;33m)\u001b[0m \u001b[1;33m+\u001b[0m \u001b[0mb\u001b[0m\u001b[1;33m\u001b[0m\u001b[1;33m\u001b[0m\u001b[0m\n\u001b[0m\u001b[0;32m      2\u001b[0m \u001b[0mZ\u001b[0m \u001b[1;33m=\u001b[0m \u001b[0mnp\u001b[0m\u001b[1;33m.\u001b[0m\u001b[0marray\u001b[0m\u001b[1;33m(\u001b[0m\u001b[0mZ\u001b[0m\u001b[1;33m,\u001b[0m \u001b[0mdtype\u001b[0m\u001b[1;33m=\u001b[0m\u001b[1;34m'int16'\u001b[0m\u001b[1;33m)\u001b[0m\u001b[1;33m\u001b[0m\u001b[1;33m\u001b[0m\u001b[0m\n",
      "\u001b[1;31mNameError\u001b[0m: name 'W' is not defined"
     ]
    }
   ],
   "source": [
    "Z = np.matmul(W.T,X_test.T) + b\n",
    "Z = np.array(Z, dtype='int16')"
   ]
  },
  {
   "cell_type": "code",
   "execution_count": 171,
   "id": "c303e122",
   "metadata": {},
   "outputs": [
    {
     "name": "stdout",
     "output_type": "stream",
     "text": [
      "Target output: [['57' '1' '36.1' '117' '181' '108.2' '34' '5' '5.2679' '100']\n",
      " ['23' '1' '18.8' '78' '145' '72' '63' '2' '3.912' '86']\n",
      " ['48' '1' '29.5' '131' '207' '132.2' '47' '4' '4.9345' '106']\n",
      " ['35' '2' '24.1' '94.67' '155' '97.4' '32' '4.84' '4.852' '94']\n",
      " ['66' '2' '26' '91' '264' '146.6' '65' '4' '5.5683' '87']\n",
      " ['29' '1' '35' '98.33' '204' '142.6' '50' '4.08' '4.0431' '91']\n",
      " ['41' '1' '33.8' '123.33' '187' '127' '45' '4.16' '4.3175' '100']\n",
      " ['24' '1' '22.5' '89' '141' '68' '52' '3' '4.654' '84']\n",
      " ['55' '1' '32.1' '110' '164' '84.2' '42' '4' '5.2417' '90']\n",
      " ['51' '2' '22.7' '103' '217' '162.4' '30' '7' '4.8122' '80']]\n"
     ]
    },
    {
     "ename": "IndexError",
     "evalue": "invalid index to scalar variable.",
     "output_type": "error",
     "traceback": [
      "\u001b[1;31m---------------------------------------------------------------------------\u001b[0m",
      "\u001b[1;31mIndexError\u001b[0m                                Traceback (most recent call last)",
      "\u001b[1;32m<ipython-input-171-17cdd8259593>\u001b[0m in \u001b[0;36m<module>\u001b[1;34m\u001b[0m\n\u001b[0;32m      1\u001b[0m \u001b[0mprint\u001b[0m\u001b[1;33m(\u001b[0m\u001b[1;34mf\"Target output: {y_test[:10]}\"\u001b[0m\u001b[1;33m)\u001b[0m\u001b[1;33m\u001b[0m\u001b[1;33m\u001b[0m\u001b[0m\n\u001b[1;32m----> 2\u001b[1;33m \u001b[0mprint\u001b[0m\u001b[1;33m(\u001b[0m\u001b[1;34mf\"Predicted output: {Z[0][:10]}\"\u001b[0m\u001b[1;33m)\u001b[0m\u001b[1;33m\u001b[0m\u001b[1;33m\u001b[0m\u001b[0m\n\u001b[0m",
      "\u001b[1;31mIndexError\u001b[0m: invalid index to scalar variable."
     ]
    }
   ],
   "source": [
    "print(f\"Target output: {y_test[:10]}\")\n",
    "print(f\"Predicted output: {Z[0][:10]}\")"
   ]
  },
  {
   "cell_type": "code",
   "execution_count": null,
   "id": "e05a5177",
   "metadata": {},
   "outputs": [],
   "source": []
  },
  {
   "cell_type": "code",
   "execution_count": null,
   "id": "0ad6cd7d",
   "metadata": {},
   "outputs": [],
   "source": []
  }
 ],
 "metadata": {
  "kernelspec": {
   "display_name": "Python 3",
   "language": "python",
   "name": "python3"
  },
  "language_info": {
   "codemirror_mode": {
    "name": "ipython",
    "version": 3
   },
   "file_extension": ".py",
   "mimetype": "text/x-python",
   "name": "python",
   "nbconvert_exporter": "python",
   "pygments_lexer": "ipython3",
   "version": "3.8.8"
  }
 },
 "nbformat": 4,
 "nbformat_minor": 5
}
